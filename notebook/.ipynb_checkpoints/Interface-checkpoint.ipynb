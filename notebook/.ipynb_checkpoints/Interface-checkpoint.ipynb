{
 "cells": [
  {
   "cell_type": "code",
   "execution_count": 1,
   "id": "705515d1-fb7d-478f-ad81-6b18021e4976",
   "metadata": {},
   "outputs": [
    {
     "name": "stdout",
     "output_type": "stream",
     "text": [
      "Requirement already satisfied: matplotlib in /home/simran/cartoon_env/lib/python3.11/site-packages (3.10.3)\n",
      "Requirement already satisfied: contourpy>=1.0.1 in /home/simran/cartoon_env/lib/python3.11/site-packages (from matplotlib) (1.3.2)\n",
      "Requirement already satisfied: cycler>=0.10 in /home/simran/cartoon_env/lib/python3.11/site-packages (from matplotlib) (0.12.1)\n",
      "Requirement already satisfied: fonttools>=4.22.0 in /home/simran/cartoon_env/lib/python3.11/site-packages (from matplotlib) (4.58.4)\n",
      "Requirement already satisfied: kiwisolver>=1.3.1 in /home/simran/cartoon_env/lib/python3.11/site-packages (from matplotlib) (1.4.8)\n",
      "Requirement already satisfied: numpy>=1.23 in /home/simran/cartoon_env/lib/python3.11/site-packages (from matplotlib) (2.1.2)\n",
      "Requirement already satisfied: packaging>=20.0 in /home/simran/cartoon_env/lib/python3.11/site-packages (from matplotlib) (25.0)\n",
      "Requirement already satisfied: pillow>=8 in /home/simran/cartoon_env/lib/python3.11/site-packages (from matplotlib) (11.0.0)\n",
      "Requirement already satisfied: pyparsing>=2.3.1 in /home/simran/cartoon_env/lib/python3.11/site-packages (from matplotlib) (3.2.3)\n",
      "Requirement already satisfied: python-dateutil>=2.7 in /home/simran/cartoon_env/lib/python3.11/site-packages (from matplotlib) (2.9.0.post0)\n",
      "Requirement already satisfied: six>=1.5 in /home/simran/cartoon_env/lib/python3.11/site-packages (from python-dateutil>=2.7->matplotlib) (1.17.0)\n"
     ]
    }
   ],
   "source": [
    "!pip install matplotlib\n"
   ]
  },
  {
   "cell_type": "code",
   "execution_count": 1,
   "id": "dbb2b43f-07dc-45cd-b53a-7dff48d8254b",
   "metadata": {},
   "outputs": [],
   "source": [
    "import torch\n",
    "import torch.nn as nn\n",
    "from torchvision import transforms\n",
    "from PIL import Image\n",
    "import matplotlib.pyplot as plt"
   ]
  },
  {
   "cell_type": "code",
   "execution_count": 2,
   "id": "02fc0876-d516-4c7f-8473-9945c387de8d",
   "metadata": {},
   "outputs": [],
   "source": [
    "class UNetGenerator(nn.Module):\n",
    "    def __init__(self):\n",
    "        super().__init__()\n",
    "        self.encoder = nn.Sequential(\n",
    "            nn.Conv2d(3, 64, 4, 2, 1), nn.ReLU(),\n",
    "            nn.Conv2d(64, 128, 4, 2, 1), nn.BatchNorm2d(128), nn.ReLU(),\n",
    "            nn.Conv2d(128, 256, 4, 2, 1), nn.BatchNorm2d(256), nn.ReLU()\n",
    "        )\n",
    "        self.middle = nn.Sequential(\n",
    "            nn.Conv2d(256, 512, 4, 2, 1), nn.BatchNorm2d(512), nn.ReLU()\n",
    "        )\n",
    "        self.decoder = nn.Sequential(\n",
    "            nn.ConvTranspose2d(512, 256, 4, 2, 1), nn.BatchNorm2d(256), nn.ReLU(),\n",
    "            nn.ConvTranspose2d(256, 128, 4, 2, 1), nn.BatchNorm2d(128), nn.ReLU(),\n",
    "            nn.ConvTranspose2d(128, 64, 4, 2, 1), nn.BatchNorm2d(64), nn.ReLU(),\n",
    "            nn.ConvTranspose2d(64, 3, 4, 2, 1), nn.Tanh()\n",
    "        )\n",
    "\n",
    "    def forward(self, x):\n",
    "        x = self.encoder(x)\n",
    "        x = self.middle(x)\n",
    "        x = self.decoder(x)\n",
    "        return x\n"
   ]
  },
  {
   "cell_type": "code",
   "execution_count": 3,
   "id": "e0ed9fb4-d5f5-4ee8-9e30-edcb394c64df",
   "metadata": {},
   "outputs": [],
   "source": [
    "def load_generator(model_path, device):\n",
    "    model = UNetGenerator().to(device)\n",
    "    state_dict = torch.load(model_path, map_location=device)\n",
    "    \n",
    "    # Support both full checkpoint and just the generator weights\n",
    "    if \"generator\" in state_dict:\n",
    "        model.load_state_dict(state_dict[\"generator\"])\n",
    "    else:\n",
    "        model.load_state_dict(state_dict)\n",
    "    \n",
    "    model.eval()\n",
    "    return model"
   ]
  },
  {
   "cell_type": "code",
   "execution_count": 4,
   "id": "5d27a6c8-e8f3-40d5-a5b8-34673bb1d1cc",
   "metadata": {},
   "outputs": [],
   "source": [
    "# 3. Preprocess Input Image\n",
    "# ======================\n",
    "def preprocess_image(image_path):\n",
    "    image = Image.open(image_path).convert(\"RGB\")\n",
    "    original_size = image.size\n",
    "    transform = transforms.Compose([\n",
    "        transforms.Resize((256, 256)),\n",
    "        transforms.ToTensor(),\n",
    "        transforms.Normalize([0.5]*3, [0.5]*3)\n",
    "    ])\n",
    "    tensor = transform(image).unsqueeze(0)\n",
    "    return tensor, image, original_size\n",
    "    "
   ]
  },
  {
   "cell_type": "code",
   "execution_count": 5,
   "id": "4700e876-d9b1-4668-956e-cf180b1dcb3a",
   "metadata": {},
   "outputs": [],
   "source": [
    "# 4. Postprocess Output Tensor\n",
    "# ======================\n",
    "def postprocess_tensor(tensor):\n",
    "    tensor = tensor.squeeze(0).detach().cpu()\n",
    "    tensor = (tensor * 0.5 + 0.5).clamp(0, 1)  # De-normalize\n",
    "    return transforms.ToPILImage()(tensor)\n"
   ]
  },
  {
   "cell_type": "code",
   "execution_count": 6,
   "id": "aa97a562-337d-4bbb-8086-c7d6a27cb837",
   "metadata": {},
   "outputs": [],
   "source": [
    "def cartoonize_image(model_path, input_path):\n",
    "    device = torch.device(\"cuda\" if torch.cuda.is_available() else \"cpu\")\n",
    "    model = load_generator(model_path, device)\n",
    "\n",
    "    input_tensor, original_image, original_size = preprocess_image(input_path)\n",
    "    input_tensor = input_tensor.to(device)\n",
    "\n",
    "    with torch.no_grad():\n",
    "        output_tensor = model(input_tensor)\n",
    "\n",
    "    cartoon_image = postprocess_tensor(output_tensor)\n",
    "    cartoon_image = cartoon_image.resize(original_size, Image.LANCZOS)\n",
    "\n",
    "    return cartoon_image\n"
   ]
  },
  {
   "cell_type": "code",
   "execution_count": 10,
   "id": "f7bbce8e-15bd-4aa4-90cb-799368d26fac",
   "metadata": {},
   "outputs": [
    {
     "name": "stderr",
     "output_type": "stream",
     "text": [
      "/tmp/ipykernel_22646/2930883342.py:3: FutureWarning: You are using `torch.load` with `weights_only=False` (the current default value), which uses the default pickle module implicitly. It is possible to construct malicious pickle data which will execute arbitrary code during unpickling (See https://github.com/pytorch/pytorch/blob/main/SECURITY.md#untrusted-models for more details). In a future release, the default value for `weights_only` will be flipped to `True`. This limits the functions that could be executed during unpickling. Arbitrary objects will no longer be allowed to be loaded via this mode unless they are explicitly allowlisted by the user via `torch.serialization.add_safe_globals`. We recommend you start setting `weights_only=True` for any use case where you don't have full control of the loaded file. Please open an issue on GitHub for any issues related to this experimental feature.\n",
      "  state_dict = torch.load(model_path, map_location=device)\n"
     ]
    },
    {
     "ename": "FileNotFoundError",
     "evalue": "[Errno 2] No such file or directory: 'cartoongan_epoch2.pth'",
     "output_type": "error",
     "traceback": [
      "\u001b[31m---------------------------------------------------------------------------\u001b[39m",
      "\u001b[31mFileNotFoundError\u001b[39m                         Traceback (most recent call last)",
      "\u001b[36mCell\u001b[39m\u001b[36m \u001b[39m\u001b[32mIn[10]\u001b[39m\u001b[32m, line 27\u001b[39m\n\u001b[32m     25\u001b[39m     \u001b[38;5;28;01melse\u001b[39;00m:\n\u001b[32m     26\u001b[39m         ckpt_path = \u001b[33mf\u001b[39m\u001b[33m\"\u001b[39m\u001b[33m../experiments/exp2/checkpoints/\u001b[39m\u001b[38;5;132;01m{\u001b[39;00mckpt\u001b[38;5;132;01m}\u001b[39;00m\u001b[33m\"\u001b[39m \n\u001b[32m---> \u001b[39m\u001b[32m27\u001b[39m         cartoon_img = \u001b[43mcartoonize_image\u001b[49m\u001b[43m(\u001b[49m\u001b[43mckpt\u001b[49m\u001b[43m,\u001b[49m\u001b[43m \u001b[49m\u001b[43minput_image_path\u001b[49m\u001b[43m)\u001b[49m\n\u001b[32m     28\u001b[39m         results[label] = cartoon_img\n\u001b[32m     30\u001b[39m \u001b[38;5;66;03m# Plotting in 2 rows and 4 columns\u001b[39;00m\n",
      "\u001b[36mCell\u001b[39m\u001b[36m \u001b[39m\u001b[32mIn[6]\u001b[39m\u001b[32m, line 3\u001b[39m, in \u001b[36mcartoonize_image\u001b[39m\u001b[34m(model_path, input_path)\u001b[39m\n\u001b[32m      1\u001b[39m \u001b[38;5;28;01mdef\u001b[39;00m\u001b[38;5;250m \u001b[39m\u001b[34mcartoonize_image\u001b[39m(model_path, input_path):\n\u001b[32m      2\u001b[39m     device = torch.device(\u001b[33m\"\u001b[39m\u001b[33mcuda\u001b[39m\u001b[33m\"\u001b[39m \u001b[38;5;28;01mif\u001b[39;00m torch.cuda.is_available() \u001b[38;5;28;01melse\u001b[39;00m \u001b[33m\"\u001b[39m\u001b[33mcpu\u001b[39m\u001b[33m\"\u001b[39m)\n\u001b[32m----> \u001b[39m\u001b[32m3\u001b[39m     model = \u001b[43mload_generator\u001b[49m\u001b[43m(\u001b[49m\u001b[43mmodel_path\u001b[49m\u001b[43m,\u001b[49m\u001b[43m \u001b[49m\u001b[43mdevice\u001b[49m\u001b[43m)\u001b[49m\n\u001b[32m      5\u001b[39m     input_tensor, original_image, original_size = preprocess_image(input_path)\n\u001b[32m      6\u001b[39m     input_tensor = input_tensor.to(device)\n",
      "\u001b[36mCell\u001b[39m\u001b[36m \u001b[39m\u001b[32mIn[3]\u001b[39m\u001b[32m, line 3\u001b[39m, in \u001b[36mload_generator\u001b[39m\u001b[34m(model_path, device)\u001b[39m\n\u001b[32m      1\u001b[39m \u001b[38;5;28;01mdef\u001b[39;00m\u001b[38;5;250m \u001b[39m\u001b[34mload_generator\u001b[39m(model_path, device):\n\u001b[32m      2\u001b[39m     model = UNetGenerator().to(device)\n\u001b[32m----> \u001b[39m\u001b[32m3\u001b[39m     state_dict = \u001b[43mtorch\u001b[49m\u001b[43m.\u001b[49m\u001b[43mload\u001b[49m\u001b[43m(\u001b[49m\u001b[43mmodel_path\u001b[49m\u001b[43m,\u001b[49m\u001b[43m \u001b[49m\u001b[43mmap_location\u001b[49m\u001b[43m=\u001b[49m\u001b[43mdevice\u001b[49m\u001b[43m)\u001b[49m\n\u001b[32m      5\u001b[39m     \u001b[38;5;66;03m# Support both full checkpoint and just the generator weights\u001b[39;00m\n\u001b[32m      6\u001b[39m     \u001b[38;5;28;01mif\u001b[39;00m \u001b[33m\"\u001b[39m\u001b[33mgenerator\u001b[39m\u001b[33m\"\u001b[39m \u001b[38;5;129;01min\u001b[39;00m state_dict:\n",
      "\u001b[36mFile \u001b[39m\u001b[32m~/cartoon_env/lib/python3.11/site-packages/torch/serialization.py:1319\u001b[39m, in \u001b[36mload\u001b[39m\u001b[34m(f, map_location, pickle_module, weights_only, mmap, **pickle_load_args)\u001b[39m\n\u001b[32m   1316\u001b[39m \u001b[38;5;28;01mif\u001b[39;00m \u001b[33m\"\u001b[39m\u001b[33mencoding\u001b[39m\u001b[33m\"\u001b[39m \u001b[38;5;129;01mnot\u001b[39;00m \u001b[38;5;129;01min\u001b[39;00m pickle_load_args.keys():\n\u001b[32m   1317\u001b[39m     pickle_load_args[\u001b[33m\"\u001b[39m\u001b[33mencoding\u001b[39m\u001b[33m\"\u001b[39m] = \u001b[33m\"\u001b[39m\u001b[33mutf-8\u001b[39m\u001b[33m\"\u001b[39m\n\u001b[32m-> \u001b[39m\u001b[32m1319\u001b[39m \u001b[38;5;28;01mwith\u001b[39;00m \u001b[43m_open_file_like\u001b[49m\u001b[43m(\u001b[49m\u001b[43mf\u001b[49m\u001b[43m,\u001b[49m\u001b[43m \u001b[49m\u001b[33;43m\"\u001b[39;49m\u001b[33;43mrb\u001b[39;49m\u001b[33;43m\"\u001b[39;49m\u001b[43m)\u001b[49m \u001b[38;5;28;01mas\u001b[39;00m opened_file:\n\u001b[32m   1320\u001b[39m     \u001b[38;5;28;01mif\u001b[39;00m _is_zipfile(opened_file):\n\u001b[32m   1321\u001b[39m         \u001b[38;5;66;03m# The zipfile reader is going to advance the current file position.\u001b[39;00m\n\u001b[32m   1322\u001b[39m         \u001b[38;5;66;03m# If we want to actually tail call to torch.jit.load, we need to\u001b[39;00m\n\u001b[32m   1323\u001b[39m         \u001b[38;5;66;03m# reset back to the original position.\u001b[39;00m\n\u001b[32m   1324\u001b[39m         orig_position = opened_file.tell()\n",
      "\u001b[36mFile \u001b[39m\u001b[32m~/cartoon_env/lib/python3.11/site-packages/torch/serialization.py:659\u001b[39m, in \u001b[36m_open_file_like\u001b[39m\u001b[34m(name_or_buffer, mode)\u001b[39m\n\u001b[32m    657\u001b[39m \u001b[38;5;28;01mdef\u001b[39;00m\u001b[38;5;250m \u001b[39m\u001b[34m_open_file_like\u001b[39m(name_or_buffer, mode):\n\u001b[32m    658\u001b[39m     \u001b[38;5;28;01mif\u001b[39;00m _is_path(name_or_buffer):\n\u001b[32m--> \u001b[39m\u001b[32m659\u001b[39m         \u001b[38;5;28;01mreturn\u001b[39;00m \u001b[43m_open_file\u001b[49m\u001b[43m(\u001b[49m\u001b[43mname_or_buffer\u001b[49m\u001b[43m,\u001b[49m\u001b[43m \u001b[49m\u001b[43mmode\u001b[49m\u001b[43m)\u001b[49m\n\u001b[32m    660\u001b[39m     \u001b[38;5;28;01melse\u001b[39;00m:\n\u001b[32m    661\u001b[39m         \u001b[38;5;28;01mif\u001b[39;00m \u001b[33m\"\u001b[39m\u001b[33mw\u001b[39m\u001b[33m\"\u001b[39m \u001b[38;5;129;01min\u001b[39;00m mode:\n",
      "\u001b[36mFile \u001b[39m\u001b[32m~/cartoon_env/lib/python3.11/site-packages/torch/serialization.py:640\u001b[39m, in \u001b[36m_open_file.__init__\u001b[39m\u001b[34m(self, name, mode)\u001b[39m\n\u001b[32m    639\u001b[39m \u001b[38;5;28;01mdef\u001b[39;00m\u001b[38;5;250m \u001b[39m\u001b[34m__init__\u001b[39m(\u001b[38;5;28mself\u001b[39m, name, mode):\n\u001b[32m--> \u001b[39m\u001b[32m640\u001b[39m     \u001b[38;5;28msuper\u001b[39m().\u001b[34m__init__\u001b[39m(\u001b[38;5;28;43mopen\u001b[39;49m\u001b[43m(\u001b[49m\u001b[43mname\u001b[49m\u001b[43m,\u001b[49m\u001b[43m \u001b[49m\u001b[43mmode\u001b[49m\u001b[43m)\u001b[49m)\n",
      "\u001b[31mFileNotFoundError\u001b[39m: [Errno 2] No such file or directory: 'cartoongan_epoch2.pth'"
     ]
    }
   ],
   "source": [
    "import matplotlib.pyplot as plt\n",
    "from PIL import Image\n",
    "\n",
    "input_image_path = \"../data/input/sujata_adhikari.jpg\"\n",
    "\n",
    "# Checkpoints and corresponding labels\n",
    "checkpoints = {\n",
    "    \"Original\": None,\n",
    "    \"Epoch 2\": \"cartoongan_epoch2.pth\",\n",
    "    \"Epoch 4\": \"cartoongan_epoch4.pth\",\n",
    "    # \"Epoch 60\": \"cartoongan_epoch60.pth\",\n",
    "    # \"Epoch 80\": \"cartoongan_epoch80.pth\",\n",
    "    # \"Epoch 100\": \"cartoongan_epoch100.pth\",\n",
    "    # \"Epoch 120\": \"cartoongan_epoch120.pth\",\n",
    "    # \"Epoch 140\": \"cartoongan_epoch140.pth\",\n",
    "    # \"Epoch 150\": \"cartoongan_epoch150.pth\",\n",
    "    \n",
    "}\n",
    "\n",
    "# Run cartoonization for each checkpoint\n",
    "results = {}\n",
    "for label, ckpt in checkpoints.items():\n",
    "    if ckpt is None:\n",
    "        results[label] = Image.open(input_image_path)\n",
    "    else:\n",
    "        ckpt_path = f\"../experiments/exp2/checkpoints/{ckpt}\" \n",
    "        cartoon_img = cartoonize_image(ckpt, input_image_path)\n",
    "        results[label] = cartoon_img\n",
    "\n",
    "# Plotting in 2 rows and 4 columns\n",
    "fig, axes = plt.subplots(3, 3, figsize=(15, 12))\n",
    "for i, (label, image) in enumerate(results.items()):\n",
    "    ax = axes[i // 2][i % 2]\n",
    "    ax.imshow(image)\n",
    "    ax.set_title(label)\n",
    "    ax.axis(\"off\")\n",
    "\n",
    "plt.tight_layout()\n",
    "plt.show()\n"
   ]
  },
  {
   "cell_type": "code",
   "execution_count": 16,
   "id": "39fbc02b-058f-43b3-b3d8-4f022ad28b12",
   "metadata": {},
   "outputs": [
    {
     "ename": "NameError",
     "evalue": "name 'model_path150' is not defined",
     "output_type": "error",
     "traceback": [
      "\u001b[31m---------------------------------------------------------------------------\u001b[39m",
      "\u001b[31mNameError\u001b[39m                                 Traceback (most recent call last)",
      "\u001b[36mCell\u001b[39m\u001b[36m \u001b[39m\u001b[32mIn[16]\u001b[39m\u001b[32m, line 11\u001b[39m\n\u001b[32m      8\u001b[39m input_image_path = \u001b[33m\"\u001b[39m\u001b[33m../sujata_adhikari.jpg\u001b[39m\u001b[33m\"\u001b[39m\n\u001b[32m      9\u001b[39m output_image_path = \u001b[33m\"\u001b[39m\u001b[33mmy_photo_cartoon.jpg\u001b[39m\u001b[33m\"\u001b[39m\n\u001b[32m---> \u001b[39m\u001b[32m11\u001b[39m cartoon_image = cartoonize_image(\u001b[43mmodel_path150\u001b[49m, input_image_path, output_image_path)\n\u001b[32m     13\u001b[39m cartoon_image2 = cartoonize_image(model_path80, input_image_path, output_image_path)\n\u001b[32m     14\u001b[39m cartoon_image2 = cartoonize_image(model_path120, input_image_path, output_image_path)\n",
      "\u001b[31mNameError\u001b[39m: name 'model_path150' is not defined"
     ]
    }
   ],
   "source": [
    "# Replace with your actual paths\n",
    "model_path120 = \"cartoongan_epoch120.pth\"\n",
    "model_path130 = \"cartoongan_epoch140.pth\"\n",
    "model_path80 = \"cartoongan_epoch80.pth\"\n",
    "\n",
    "model_path10 = \"cartoongan_epoch10.pth\"\n",
    "\n",
    "input_image_path = \"../sujata_adhikari.jpg\"\n",
    "output_image_path = \"my_photo_cartoon.jpg\"\n",
    "\n",
    "cartoon_image = cartoonize_image(model_path150, input_image_path, output_image_path)\n",
    "\n",
    "cartoon_image2 = cartoonize_image(model_path80, input_image_path, output_image_path)\n",
    "cartoon_image2 = cartoonize_image(model_path120, input_image_path, output_image_path)\n",
    "cartoon_image2 = cartoonize_image(model_path130, input_image_path, output_image_path)\n",
    "\n"
   ]
  },
  {
   "cell_type": "code",
   "execution_count": null,
   "id": "dda285ad-9b76-475b-b992-8fe10f88df77",
   "metadata": {},
   "outputs": [],
   "source": [
    "\n",
    "\n",
    "\n",
    "\n"
   ]
  }
 ],
 "metadata": {
  "kernelspec": {
   "display_name": "Python 3 (ipykernel)",
   "language": "python",
   "name": "python3"
  },
  "language_info": {
   "codemirror_mode": {
    "name": "ipython",
    "version": 3
   },
   "file_extension": ".py",
   "mimetype": "text/x-python",
   "name": "python",
   "nbconvert_exporter": "python",
   "pygments_lexer": "ipython3",
   "version": "3.11.7"
  }
 },
 "nbformat": 4,
 "nbformat_minor": 5
}
