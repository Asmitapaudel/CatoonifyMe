{
 "cells": [
  {
   "cell_type": "code",
   "execution_count": 2,
   "id": "41cc978a-46f4-4650-99f9-6f500950cc96",
   "metadata": {},
   "outputs": [],
   "source": [
    "\n",
    "import os\n",
    "from PIL import Image\n",
    "from glob import glob\n",
    "import torch\n",
    "from torch.utils.data import Dataset, DataLoader\n",
    "from torchvision import transforms\n",
    "import torch.nn as nn\n"
   ]
  },
  {
   "cell_type": "code",
   "execution_count": 16,
   "id": "e9fb269f-e07a-4f8c-ae14-671648164a08",
   "metadata": {},
   "outputs": [],
   "source": [
    "class CartoonDataset(Dataset):\n",
    "    def __init__(self, original_dir, cartoon_dir, transform=None, limit=1000):\n",
    "        self.original_paths = sorted(glob(os.path.join(original_dir, \"*.png\")))[:limit]\n",
    "        self.cartoon_paths = sorted(glob(os.path.join(cartoon_dir, \"*.png\")))[:limit]\n",
    "        self.transform = transform\n",
    "\n",
    "    def __len__(self):\n",
    "        return len(self.original_paths)\n",
    "\n",
    "    def __getitem__(self, idx):\n",
    "        original = Image.open(self.original_paths[idx]).convert(\"RGB\")\n",
    "        cartoon = Image.open(self.cartoon_paths[idx]).convert(\"RGB\")\n",
    "\n",
    "        if self.transform:\n",
    "            original = self.transform(original)\n",
    "            cartoon = self.transform(cartoon)\n",
    "\n",
    "        return original, cartoon"
   ]
  },
  {
   "cell_type": "code",
   "execution_count": 4,
   "id": "80b90d58-01ed-49bd-a7e3-97075946f71d",
   "metadata": {},
   "outputs": [],
   "source": [
    "transform = transforms.Compose([\n",
    "    transforms.Resize((256, 256)),\n",
    "    transforms.ToTensor(),\n",
    "    transforms.Normalize([0.5]*3, [0.5]*3)\n",
    "])"
   ]
  },
  {
   "cell_type": "code",
   "execution_count": 5,
   "id": "aa1c0ecc-f80f-4e13-9b73-96d092a3b071",
   "metadata": {},
   "outputs": [],
   "source": [
    "\n",
    "class UNetGenerator(nn.Module):\n",
    "    def __init__(self):\n",
    "        super().__init__()\n",
    "        self.encoder = nn.Sequential(\n",
    "            nn.Conv2d(3, 64, 4, 2, 1), nn.ReLU(),\n",
    "            nn.Conv2d(64, 128, 4, 2, 1), nn.BatchNorm2d(128), nn.ReLU(),\n",
    "            nn.Conv2d(128, 256, 4, 2, 1), nn.BatchNorm2d(256), nn.ReLU()\n",
    "        )\n",
    "        self.middle = nn.Sequential(\n",
    "            nn.Conv2d(256, 512, 4, 2, 1), nn.BatchNorm2d(512), nn.ReLU()\n",
    "        )\n",
    "        self.decoder = nn.Sequential(\n",
    "            nn.ConvTranspose2d(512, 256, 4, 2, 1), nn.BatchNorm2d(256), nn.ReLU(),\n",
    "            nn.ConvTranspose2d(256, 128, 4, 2, 1), nn.BatchNorm2d(128), nn.ReLU(),\n",
    "            nn.ConvTranspose2d(128, 64, 4, 2, 1), nn.BatchNorm2d(64), nn.ReLU(),\n",
    "            nn.ConvTranspose2d(64, 3, 4, 2, 1), nn.Tanh()\n",
    "        )\n",
    "\n",
    "    def forward(self, x):\n",
    "        x = self.encoder(x)\n",
    "        x = self.middle(x)\n",
    "        x = self.decoder(x)\n",
    "        return x"
   ]
  },
  {
   "cell_type": "code",
   "execution_count": 6,
   "id": "673afbae-a43a-44c7-83eb-adad237e0b27",
   "metadata": {},
   "outputs": [],
   "source": [
    "\n",
    "device = torch.device(\"cuda\" if torch.cuda.is_available() else \"cpu\")\n"
   ]
  },
  {
   "cell_type": "code",
   "execution_count": 7,
   "id": "d9bbd82b-955e-497f-98d7-773e12cbd4a9",
   "metadata": {},
   "outputs": [],
   "source": [
    "original_dir = \"./train/original\"\n",
    "cartoon_dir = \"./train/cartoonized\""
   ]
  },
  {
   "cell_type": "code",
   "execution_count": 20,
   "id": "c629d7bf-3092-4196-b6fe-821170d94914",
   "metadata": {},
   "outputs": [],
   "source": [
    "\n",
    "dataset = CartoonDataset(original_dir, cartoon_dir, transform=transform, limit=1000)\n",
    "loader = DataLoader(dataset, batch_size=4, shuffle=True)"
   ]
  },
  {
   "cell_type": "code",
   "execution_count": 21,
   "id": "4d19d9d6-65ba-4b74-9214-c91bca050d52",
   "metadata": {},
   "outputs": [],
   "source": [
    "generator = UNetGenerator().to(device)\n",
    "criterion = nn.L1Loss()\n",
    "optimizer = torch.optim.Adam(generator.parameters(), lr=2e-4)"
   ]
  },
  {
   "cell_type": "code",
   "execution_count": 22,
   "id": "80f1f02f-e3a2-4ae3-8bdc-2836178182a5",
   "metadata": {},
   "outputs": [
    {
     "name": "stdout",
     "output_type": "stream",
     "text": [
      "Epoch 1, Loss: 0.2226\n",
      "Epoch 2, Loss: 0.1703\n",
      "Epoch 3, Loss: 0.1521\n",
      "Epoch 4, Loss: 0.1446\n",
      "Epoch 5, Loss: 0.1378\n",
      "Epoch 6, Loss: 0.1338\n",
      "Epoch 7, Loss: 0.1293\n",
      "Epoch 8, Loss: 0.1276\n",
      "Epoch 9, Loss: 0.1237\n",
      "Epoch 10, Loss: 0.1211\n",
      "Epoch 11, Loss: 0.1194\n",
      "Epoch 12, Loss: 0.1177\n",
      "Epoch 13, Loss: 0.1156\n",
      "Epoch 14, Loss: 0.1159\n",
      "Epoch 15, Loss: 0.1136\n",
      "Epoch 16, Loss: 0.1133\n",
      "Epoch 17, Loss: 0.1118\n",
      "Epoch 18, Loss: 0.1111\n",
      "Epoch 19, Loss: 0.1088\n",
      "Epoch 20, Loss: 0.1074\n",
      "Epoch 21, Loss: 0.1073\n",
      "Epoch 22, Loss: 0.1058\n",
      "Epoch 23, Loss: 0.1061\n",
      "Epoch 24, Loss: 0.1037\n",
      "Epoch 25, Loss: 0.1041\n",
      "Epoch 26, Loss: 0.1052\n",
      "Epoch 27, Loss: 0.1027\n",
      "Epoch 28, Loss: 0.1024\n",
      "Epoch 29, Loss: 0.1032\n",
      "Epoch 30, Loss: 0.1016\n",
      "Epoch 31, Loss: 0.1011\n",
      "Epoch 32, Loss: 0.1000\n",
      "Epoch 33, Loss: 0.1005\n",
      "Epoch 34, Loss: 0.0993\n",
      "Epoch 35, Loss: 0.0973\n",
      "Epoch 36, Loss: 0.0977\n",
      "Epoch 37, Loss: 0.0981\n",
      "Epoch 38, Loss: 0.0973\n",
      "Epoch 39, Loss: 0.0976\n",
      "Epoch 40, Loss: 0.0962\n",
      "Epoch 41, Loss: 0.0965\n",
      "Epoch 42, Loss: 0.0960\n",
      "Epoch 43, Loss: 0.0957\n",
      "Epoch 44, Loss: 0.0955\n",
      "Epoch 45, Loss: 0.0942\n",
      "Epoch 46, Loss: 0.0945\n",
      "Epoch 47, Loss: 0.0939\n",
      "Epoch 48, Loss: 0.0928\n",
      "Epoch 49, Loss: 0.0930\n",
      "Epoch 50, Loss: 0.0938\n"
     ]
    }
   ],
   "source": [
    "\n",
    "for epoch in range(50):\n",
    "    generator.train()\n",
    "    total_loss = 0\n",
    "    for real, cartoon in loader:\n",
    "        real, cartoon = real.to(device), cartoon.to(device)\n",
    "        output = generator(real)\n",
    "        loss = criterion(output, cartoon)\n",
    "\n",
    "        optimizer.zero_grad()\n",
    "        loss.backward()\n",
    "        optimizer.step()\n",
    "\n",
    "        total_loss += loss.item()\n",
    "\n",
    "    print(f\"Epoch {epoch+1}, Loss: {total_loss/len(loader):.4f}\")\n"
   ]
  },
  {
   "cell_type": "code",
   "execution_count": 23,
   "id": "bf56f367-3751-4bad-bc91-3994ec5f8074",
   "metadata": {},
   "outputs": [],
   "source": [
    "torch.save(generator.state_dict(), \"generator50.pth\")"
   ]
  },
  {
   "cell_type": "code",
   "execution_count": 24,
   "id": "3b7c2078-e20e-4178-b1e0-96cfbc05b637",
   "metadata": {},
   "outputs": [
    {
     "data": {
      "text/plain": [
       "<All keys matched successfully>"
      ]
     },
     "execution_count": 24,
     "metadata": {},
     "output_type": "execute_result"
    }
   ],
   "source": [
    "# 1. Load the model\n",
    "generator = UNetGenerator().to(device)\n",
    "generator.load_state_dict(torch.load(\"generator50.pth\", map_location=device))"
   ]
  },
  {
   "cell_type": "code",
   "execution_count": 25,
   "id": "bd18d5a0-0221-44cd-bde5-d6ba3455d49e",
   "metadata": {},
   "outputs": [
    {
     "data": {
      "text/plain": [
       "UNetGenerator(\n",
       "  (encoder): Sequential(\n",
       "    (0): Conv2d(3, 64, kernel_size=(4, 4), stride=(2, 2), padding=(1, 1))\n",
       "    (1): ReLU()\n",
       "    (2): Conv2d(64, 128, kernel_size=(4, 4), stride=(2, 2), padding=(1, 1))\n",
       "    (3): BatchNorm2d(128, eps=1e-05, momentum=0.1, affine=True, track_running_stats=True)\n",
       "    (4): ReLU()\n",
       "    (5): Conv2d(128, 256, kernel_size=(4, 4), stride=(2, 2), padding=(1, 1))\n",
       "    (6): BatchNorm2d(256, eps=1e-05, momentum=0.1, affine=True, track_running_stats=True)\n",
       "    (7): ReLU()\n",
       "  )\n",
       "  (middle): Sequential(\n",
       "    (0): Conv2d(256, 512, kernel_size=(4, 4), stride=(2, 2), padding=(1, 1))\n",
       "    (1): BatchNorm2d(512, eps=1e-05, momentum=0.1, affine=True, track_running_stats=True)\n",
       "    (2): ReLU()\n",
       "  )\n",
       "  (decoder): Sequential(\n",
       "    (0): ConvTranspose2d(512, 256, kernel_size=(4, 4), stride=(2, 2), padding=(1, 1))\n",
       "    (1): BatchNorm2d(256, eps=1e-05, momentum=0.1, affine=True, track_running_stats=True)\n",
       "    (2): ReLU()\n",
       "    (3): ConvTranspose2d(256, 128, kernel_size=(4, 4), stride=(2, 2), padding=(1, 1))\n",
       "    (4): BatchNorm2d(128, eps=1e-05, momentum=0.1, affine=True, track_running_stats=True)\n",
       "    (5): ReLU()\n",
       "    (6): ConvTranspose2d(128, 64, kernel_size=(4, 4), stride=(2, 2), padding=(1, 1))\n",
       "    (7): BatchNorm2d(64, eps=1e-05, momentum=0.1, affine=True, track_running_stats=True)\n",
       "    (8): ReLU()\n",
       "    (9): ConvTranspose2d(64, 3, kernel_size=(4, 4), stride=(2, 2), padding=(1, 1))\n",
       "    (10): Tanh()\n",
       "  )\n",
       ")"
      ]
     },
     "execution_count": 25,
     "metadata": {},
     "output_type": "execute_result"
    }
   ],
   "source": [
    "generator.train()"
   ]
  },
  {
   "cell_type": "code",
   "execution_count": 26,
   "id": "8f6cb602-d4f3-4fc0-b6ef-797d94defb4d",
   "metadata": {},
   "outputs": [
    {
     "name": "stdout",
     "output_type": "stream",
     "text": [
      "Epoch 51, Loss: 0.0998\n",
      "Epoch 52, Loss: 0.0999\n",
      "Epoch 53, Loss: 0.1002\n",
      "Epoch 54, Loss: 0.1001\n",
      "Epoch 55, Loss: 0.1002\n",
      "Epoch 56, Loss: 0.0995\n",
      "Epoch 57, Loss: 0.1000\n",
      "Epoch 58, Loss: 0.0998\n",
      "Epoch 59, Loss: 0.1002\n",
      "Epoch 60, Loss: 0.0999\n",
      "Epoch 61, Loss: 0.0998\n",
      "Epoch 62, Loss: 0.0998\n",
      "Epoch 63, Loss: 0.0998\n",
      "Epoch 64, Loss: 0.1001\n",
      "Epoch 65, Loss: 0.0995\n",
      "Epoch 66, Loss: 0.1000\n",
      "Epoch 67, Loss: 0.0995\n",
      "Epoch 68, Loss: 0.0997\n",
      "Epoch 69, Loss: 0.0997\n",
      "Epoch 70, Loss: 0.0999\n",
      "Epoch 71, Loss: 0.1003\n",
      "Epoch 72, Loss: 0.0999\n",
      "Epoch 73, Loss: 0.0996\n",
      "Epoch 74, Loss: 0.1001\n",
      "Epoch 75, Loss: 0.0998\n",
      "Epoch 76, Loss: 0.0997\n",
      "Epoch 77, Loss: 0.0994\n",
      "Epoch 78, Loss: 0.0994\n",
      "Epoch 79, Loss: 0.1000\n",
      "Epoch 80, Loss: 0.0998\n",
      "Epoch 81, Loss: 0.0998\n",
      "Epoch 82, Loss: 0.0997\n",
      "Epoch 83, Loss: 0.0998\n",
      "Epoch 84, Loss: 0.0998\n",
      "Epoch 85, Loss: 0.0996\n",
      "Epoch 86, Loss: 0.0997\n",
      "Epoch 87, Loss: 0.1001\n",
      "Epoch 88, Loss: 0.0997\n",
      "Epoch 89, Loss: 0.1000\n",
      "Epoch 90, Loss: 0.0996\n",
      "Epoch 91, Loss: 0.0998\n",
      "Epoch 92, Loss: 0.0996\n",
      "Epoch 93, Loss: 0.0995\n",
      "Epoch 94, Loss: 0.0998\n",
      "Epoch 95, Loss: 0.0997\n",
      "Epoch 96, Loss: 0.0999\n",
      "Epoch 97, Loss: 0.0995\n",
      "Epoch 98, Loss: 0.0995\n",
      "Epoch 99, Loss: 0.1000\n",
      "Epoch 100, Loss: 0.0996\n"
     ]
    }
   ],
   "source": [
    "# 3. Continue training\n",
    "for epoch in range(50, 100):  # Start from epoch 51\n",
    "    total_loss = 0\n",
    "    for real, cartoon in loader:\n",
    "        real, cartoon = real.to(device), cartoon.to(device)\n",
    "        output = generator(real)\n",
    "        loss = criterion(output, cartoon)\n",
    "\n",
    "        optimizer.zero_grad()\n",
    "        loss.backward()\n",
    "        optimizer.step()\n",
    "\n",
    "        total_loss += loss.item()\n",
    "\n",
    "    print(f\"Epoch {epoch+1}, Loss: {total_loss/len(loader):.4f}\")"
   ]
  },
  {
   "cell_type": "code",
   "execution_count": 27,
   "id": "6afc29bf-00da-48f4-9f22-13e1c61b74de",
   "metadata": {},
   "outputs": [],
   "source": [
    "torch.save(generator.state_dict(), \"generatorfinal100.pth\")"
   ]
  },
  {
   "cell_type": "code",
   "execution_count": null,
   "id": "b6bd8b6b-8ffd-4c79-a6f4-2846ee0eb124",
   "metadata": {},
   "outputs": [],
   "source": []
  }
 ],
 "metadata": {
  "kernelspec": {
   "display_name": "Python 3 (ipykernel)",
   "language": "python",
   "name": "python3"
  },
  "language_info": {
   "codemirror_mode": {
    "name": "ipython",
    "version": 3
   },
   "file_extension": ".py",
   "mimetype": "text/x-python",
   "name": "python",
   "nbconvert_exporter": "python",
   "pygments_lexer": "ipython3",
   "version": "3.11.7"
  }
 },
 "nbformat": 4,
 "nbformat_minor": 5
}
